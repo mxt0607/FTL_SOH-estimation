{
 "cells": [
  {
   "cell_type": "code",
   "execution_count": 1,
   "metadata": {},
   "outputs": [],
   "source": [
    "import os\n",
    "os.environ[\"CUDA_VISIBLE_DEVICES\" ] = '0'"
   ]
  },
  {
   "cell_type": "code",
   "execution_count": 2,
   "metadata": {},
   "outputs": [
    {
     "name": "stderr",
     "output_type": "stream",
     "text": [
      "Duplicate key in file PosixPath('/home/user/anaconda3/lib/python3.8/site-packages/matplotlib/mpl-data/matplotlibrc'), line 759 ('font.family         : sans-serif')\n",
      "Duplicate key in file PosixPath('/home/user/anaconda3/lib/python3.8/site-packages/matplotlib/mpl-data/matplotlibrc'), line 760 ('font.sans-serif         : SimHei')\n",
      "Duplicate key in file PosixPath('/home/user/anaconda3/lib/python3.8/site-packages/matplotlib/mpl-data/matplotlibrc'), line 761 ('axes.unicode_minus  : False')\n"
     ]
    }
   ],
   "source": [
    "import pickle\n",
    "import scipy.io as sio\n",
    "import numpy as np \n",
    "import matplotlib.pyplot as plt\n",
    "from copy import deepcopy\n",
    "from scipy.optimize import leastsq\n",
    "import random\n",
    "import shutil\n",
    "import pyswarms as ps\n",
    "import torch\n",
    "from torch.autograd import Variable\n",
    "import torch.nn.functional as F\n",
    "import torch.nn as nn\n",
    "import torch.utils.data as Data\n",
    "from sklearn.model_selection import train_test_split\n",
    "from sklearn.preprocessing import StandardScaler\n",
    "from sklearn.preprocessing import MinMaxScaler\n",
    "from sklearn.model_selection import KFold\n",
    "from sklearn.model_selection import train_test_split\n",
    "from sklearn.linear_model import LinearRegression"
   ]
  },
  {
   "cell_type": "code",
   "execution_count": 3,
   "metadata": {},
   "outputs": [],
   "source": [
    "'''Loading data'''\n",
    "\n",
    "Voltage = pickle.load(open('fea_lab.pkl','rb'))\n",
    "SOH = pickle.load(open('label_lab.pkl','rb'))\n",
    "\n",
    "label5 = SOH[5][:np.where(SOH[5]/2900<0.8)[0][0], :]/2900 # Divide nominal capacity\n",
    "label6 = SOH[6][:np.where(SOH[6]/2900<0.8)[0][0], :]/2900\n",
    "\n",
    "data5 = Voltage[5][:np.where(SOH[5]/2900<0.8)[0][0], :]\n",
    "data6 = Voltage[6][:np.where(SOH[6]/2900<0.8)[0][0], :]"
   ]
  },
  {
   "cell_type": "code",
   "execution_count": 4,
   "metadata": {},
   "outputs": [],
   "source": [
    "prior_len = 100   \n",
    "train_data = np.expand_dims(data5, axis=1)\n",
    "train_data = np.expand_dims(train_data, axis=3)\n",
    "train_label = label5\n",
    "\n",
    "test_data = np.expand_dims(data6, axis=1)\n",
    "test_data = np.expand_dims(test_data, axis=3)\n",
    "test_label = label6\n",
    "\n",
    "train_data_mmd = train_data[:prior_len, :, :]  # The first 100 cycles \n",
    "test_data_mmd = test_data[:prior_len, :, :]    # The first 100 cycles "
   ]
  },
  {
   "cell_type": "code",
   "execution_count": 5,
   "metadata": {},
   "outputs": [],
   "source": [
    "'''Create samples''' \n",
    "train_data_o = np.repeat(train_data, 2, axis=1)  # The repeated all source data   m x 2 x 1000 x 1\n",
    "test_data_o = np.repeat(test_data, 2, axis=1)    # The repeated all target data   n x 2 x 1000 x 1\n",
    "\n",
    "train_label_o = deepcopy(train_label)            # The source label   m x 1          \n",
    "test_label_o = deepcopy(test_label)              # The target label   n x 1\n",
    "\n",
    "train_data_c_mmd = train_data[:prior_len]        # The first 100 cycles of source data    100 x 1 x 1000 x 1\n",
    "test_data_c_mmd = test_data[:prior_len]          # The first 100 cycles of target data    100 x 1 x 1000 x 1\n",
    "\n",
    "train_data_o_mmd = np.repeat(train_data[:prior_len], 2, axis=1)  # The first 100 cycles of repeated source data   100 x 2 x 1000 x 1\n",
    "test_data_o_mmd = np.repeat(test_data[:prior_len], 2, axis=1)    # The first 100 cycles of repeated target data   100 x 2 x 1000 x 1\n",
    "\n",
    "train_label_c = train_label[:prior_len]          # The first 100 cycles of source label  100x1\n",
    "test_label_c = test_label[:prior_len]            # The first 100 cycles of target label  100x1\n"
   ]
  },
  {
   "cell_type": "code",
   "execution_count": 6,
   "metadata": {},
   "outputs": [
    {
     "name": "stdout",
     "output_type": "stream",
     "text": [
      "(419, 1, 1000, 1) (419, 1)\n",
      "(603, 1, 1000, 1) (603, 1)\n",
      "(419, 2, 1000, 1) (603, 2, 1000, 1)\n",
      "(100, 1, 1000, 1) (100, 1, 1000, 1)\n",
      "(100, 2, 1000, 1) (100, 2, 1000, 1)\n",
      "(100, 1) (100, 1)\n"
     ]
    }
   ],
   "source": [
    "print (train_data.shape, train_label_o.shape)\n",
    "print (test_data.shape, test_label_o.shape)\n",
    "print (train_data_o.shape, test_data_o.shape)\n",
    "print (train_data_c_mmd.shape, test_data_c_mmd.shape)\n",
    "print (train_data_o_mmd.shape, test_data_o_mmd.shape)\n",
    "print (train_label_c.shape, test_label_c.shape)"
   ]
  },
  {
   "cell_type": "code",
   "execution_count": 7,
   "metadata": {},
   "outputs": [],
   "source": [
    "'''Creat tensors for training, testing, validation and mmd_data''' \n",
    "\n",
    "x_train_o_s, y_train_o_s = deepcopy(train_data_o), deepcopy(train_label_o)    # The repeated all source data/labels   m x 2 x 1000 x 1/ m x 1 \n",
    "x_train_o_t, y_train_o_t = deepcopy(test_data_o_mmd), deepcopy(test_label_c)  # The first 100 cycles of repeated target data/label    100 x 2 x 1000 x 1/100 x 1\n",
    "\n",
    "x_train_o_s = torch.FloatTensor(x_train_o_s).cuda()            # The repeated all source data    m x 2 x 1000 x 1\n",
    "y_train_o_s = torch.FloatTensor(y_train_o_s).cuda()            # The repeated all source label   m x 1\n",
    "\n",
    "x_train_o_t = torch.FloatTensor(x_train_o_t).cuda()            # The first 100 cycles of repeated target data    100 x 2 x 1000 x 1\n",
    "y_train_o_t = torch.FloatTensor(y_train_o_t).cuda()            # The first 100 cycles of repeated target label   100 x 1\n",
    "\n",
    "x_val_o = x_train_o_t                                          # Validation data:  The first 100 cycles of repeated target data    100 x 2 x 1000 x 1\n",
    "y_val_o = y_train_o_t                                          # Validation label: The first 100 cycles of repeated target label   100 x 1\n",
    "\n",
    "test_data_o = torch.FloatTensor(test_data_o).cuda()            # The repeated all target data   n x 2 x 1000 x 1\n",
    "test_label_o = torch.FloatTensor(test_label_o).cuda()          # The all target label   n x 1\n",
    "\n",
    "train_data_o_mmd = torch.FloatTensor(train_data_o_mmd).cuda()  # The first 100 cycles of repeated source data   100 x 2 x 1000 x 1 \n",
    "test_data_o_mmd = torch.FloatTensor(test_data_o_mmd).cuda()    # The first 100 cycles of repeated target data   100 x 2 x 1000 x 1\n",
    "\n",
    "train_data_c_mmd = torch.FloatTensor(train_data_c_mmd).cuda()  # The first 100 cycles of source data    100 x 1 x 1000 x 1\n",
    "test_data_c_mmd = torch.FloatTensor(test_data_c_mmd).cuda()    # The first 100 cycles of target data    100 x 1 x 1000 x 1\n",
    "\n",
    "train_label_c = torch.FloatTensor(train_label_c).cuda()        # The first 100 cycles of source label   100 x 1 \n",
    "test_label_c = torch.FloatTensor(test_label_c).cuda()          # The first 100 cycles of target label   100 x 1\n"
   ]
  },
  {
   "cell_type": "code",
   "execution_count": 8,
   "metadata": {},
   "outputs": [],
   "source": [
    "'''Create MMD computation'''\n",
    "def compute_kernel(x, y, sigma):\n",
    "    x_size = x.size(0)\n",
    "    y_size = y.size(0)\n",
    "    dim = x.size(1)\n",
    "    x = x.unsqueeze(1) # (x_size, 1, dim)\n",
    "    y = y.unsqueeze(0) # (1, y_size, dim)\n",
    "    tiled_x = x.expand(x_size, y_size, dim)\n",
    "    tiled_y = y.expand(x_size, y_size, dim)\n",
    "    kernel_input = (tiled_x - tiled_y).pow(2).sum(2)/float(dim)\n",
    "    return torch.exp(-kernel_input/sigma) # (x_size, y_size)\n",
    "\n",
    "def mmd_loss(x, y, sigma):\n",
    "    x_kernel = compute_kernel(x, x, sigma)\n",
    "    y_kernel = compute_kernel(y, y, sigma)\n",
    "    xy_kernel = compute_kernel(x, y, sigma)\n",
    "    mmd = x_kernel.mean() + y_kernel.mean() - 2*xy_kernel.mean()\n",
    "    return mmd"
   ]
  },
  {
   "cell_type": "code",
   "execution_count": 9,
   "metadata": {},
   "outputs": [],
   "source": [
    "'''Create Model structrue'''\n",
    "class Net(torch.nn.Module):\n",
    "    def __init__(self):\n",
    "        super(Net, self).__init__()\n",
    "        self.mapping = torch.nn.Linear(1,1000)       \n",
    "        self.layer1 = torch.nn.Sequential(\n",
    "                        torch.nn.Conv2d(2, 8, kernel_size=(20,1), stride=(2,1)),\n",
    "                        torch.nn.LeakyReLU(inplace=True))\n",
    "        self.layer2 = torch.nn.Sequential(\n",
    "                        torch.nn.Conv2d(8, 16, kernel_size=(20,1), stride=(2,1)),\n",
    "                        torch.nn.LeakyReLU(inplace=True))\n",
    "        self.layer3 = torch.nn.Sequential(\n",
    "                        torch.nn.Conv2d(16, 32, kernel_size=(2,1), stride=1),\n",
    "                        torch.nn.LeakyReLU(inplace=True))\n",
    "        self.fc1 = torch.nn.Sequential(torch.nn.Linear(7520,256),\n",
    "                                       torch.nn.LeakyReLU(inplace=True))\n",
    "        self.fc2 = torch.nn.Linear(256,1)       \n",
    "    \n",
    "    def forward(self, x_src_o, x_tar_o, x_src_o_mmd, x_tar_o_mmd, x_src_o_label, x_tar_o_label, x_src_c_mmd, x_tar_c_mmd, sigma):\n",
    "        '''x_src_o: Repeated all source data   m x 2 x 100 x 1; \n",
    "           x_tar_o: The first 100 cycles of repeated source data  100 x 2 x 1000 x 1; \n",
    "           \n",
    "           Group1: \n",
    "           x_src_o_mmd: The first 100 cycles of repeated source data  100 x 2 x 1000 x 1; \n",
    "           x_tar_o_mmd: The first 100 cycles of repeated target data  100 x 2 x 1000 x 1; \n",
    "           \n",
    "           Group3 (before embedding): \n",
    "           x_src_o_label: The first 100 cycles of source label  100 x 1; \n",
    "           x_tar_o_label: The first 100 cycles of target label  100 x 1;    \n",
    "           \n",
    "           Group2 (before conditioning with label): \n",
    "           x_src_c_mmd: The first 100 cycles of source data  100 x 1 x 1000 x 1; \n",
    "           x_tar_c_mmd: The first 100 cycles of target data  100 x 1 x 1000 x 1;  \n",
    "           \n",
    "           sigma : hyperparameters\n",
    "        '''\n",
    "    \n",
    "        loss=0\n",
    "        x_tar0 = self.layer1(x_tar_o_mmd)           # Input: x_tar_o_mmd \n",
    "        x_tar1 = self.layer2(x_tar0)\n",
    "        x_tar2 = self.layer3(x_tar1)    \n",
    "        x_tar3 = x_tar2.view(x_tar2.size(0), -1)\n",
    "        x_tar4 = self.fc1(x_tar3)                   # Extracted deep features of the first 100 cycles of repeated target data: 100x256\n",
    "        \n",
    "        x_src0 = self.layer1(x_src_o)               # Input: x_src_o \n",
    "        x_src1 = self.layer2(x_src0)\n",
    "        x_src2 = self.layer3(x_src1)\n",
    "        x_src3 = x_src2.view(x_src2.size(0), -1)\n",
    "        x_src4 = self.fc1(x_src3)                   # Extracted deep features of repeated all source data: 603x256\n",
    "        \n",
    "        x_tar00 = self.layer1(x_tar_o)              # Input: x_tar_o\n",
    "        x_tar01 = self.layer2(x_tar00)\n",
    "        x_tar02 = self.layer3(x_tar01)\n",
    "        x_tar03 = x_tar02.view(x_tar02.size(0), -1) \n",
    "        x_tar04 = self.fc1(x_tar03)                 # Extracted deep features of repeated target data: 100x256 \n",
    "        \n",
    "        x_src01 = self.layer1(x_src_o_mmd)          # Input: x_src_o_mmd\n",
    "        x_src11 = self.layer2(x_src01)\n",
    "        x_src22 = self.layer3(x_src11)\n",
    "        x_src33 = x_src22.view(x_src22.size(0), -1)\n",
    "        x_src44 = self.fc1(x_src33)                  # Extracted deep features of repeated source data: 100x256 \n",
    "        \n",
    "        src_mapping1 = self.mapping(x_src_o_label)   # Input: x_src_o_label  For embedding\n",
    "        src_mapping2 = src_mapping1.view(src_mapping1.size(0), 1, 1000, 1) # After embedding: 100x1x1000x1\n",
    "        src_mapping3 = src_mapping2.repeat(1, 2, 1, 1)  # After repeating: 100x2x1000x1\n",
    "        \n",
    "        src_cat = torch.cat((x_src_c_mmd, src_mapping2), 1)  # contentate The first 100 cycles of source data and embedded labels   100x 2 x1000x1\n",
    "        \n",
    "        tar_mapping1 = self.mapping(x_tar_o_label)   # Input: x_tar_o_label  For embedding      \n",
    "        tar_mapping2 = tar_mapping1.view(tar_mapping1.size(0), 1, 1000, 1)  # After embedding: 100x1x1000x1\n",
    "        tar_mapping3 = tar_mapping2.repeat(1, 2, 1, 1)  # After repeating: 100x2x1000x1\n",
    "        \n",
    "        tar_cat = torch.cat((x_tar_c_mmd, tar_mapping2), 1)   # contentate The first 100 cycles of target data and embedded labels   100x 2 x1000x1   \n",
    "        \n",
    "        x_src_data_c_01 = self.layer1(src_cat)            # Input (Conditional source data): src_cat  100x2x1000x1\n",
    "        x_src_data_c_02 = self.layer2(x_src_data_c_01)\n",
    "        x_src_data_c_03 = self.layer3(x_src_data_c_02)\n",
    "        x_src_data_c_04 = x_src_data_c_03.view(x_src_data_c_03.size(0), -1)\n",
    "        x_src_data_c_05 = self.fc1(x_src_data_c_04)        # Extracted deep features of conditional source data: 100x256\n",
    "        \n",
    "        x_tar_data_c_01 = self.layer1(tar_cat)          # Input (Conditional target data): tar_cat  100x2x1000x1\n",
    "        x_tar_data_c_02 = self.layer2(x_tar_data_c_01)\n",
    "        x_tar_data_c_03 = self.layer3(x_tar_data_c_02)\n",
    "        x_tar_data_c_04 = x_tar_data_c_03.view(x_tar_data_c_03.size(0), -1)\n",
    "        x_tar_data_c_05 = self.fc1(x_tar_data_c_04)     # Extracted deep features of conditional target data: 100x256\n",
    "        \n",
    "        x_src_label_c_01 = self.layer1(src_mapping3)    # Input: src_mapping3 (the repeated source labels) 100x2x1000x1\n",
    "        x_src_label_c_02 = self.layer2(x_src_label_c_01)\n",
    "        x_src_label_c_03 = self.layer3(x_src_label_c_02)\n",
    "        x_src_label_c_04 = x_src_label_c_03.view(x_src_label_c_03.size(0), -1)\n",
    "        x_src_label_c_05 = self.fc1(x_src_label_c_04)   # Extracted deep features of repeated source labels: 100x256\n",
    "        \n",
    "        x_tar_label_c_01 = self.layer1(tar_mapping3)     # Input: tar_mapping3 (the repeated target labels) 100x2x1000x1\n",
    "        x_tar_label_c_02 = self.layer2(x_tar_label_c_01)\n",
    "        x_tar_label_c_03 = self.layer3(x_tar_label_c_02)\n",
    "        x_tar_label_c_04 = x_tar_label_c_03.view(x_tar_label_c_03.size(0), -1)\n",
    "        x_tar_label_c_05 = self.fc1(x_tar_label_c_04)   # Extracted deep features of repeated target labels: 100x256     \n",
    "        \n",
    "        if self.training == True: \n",
    "            loss1 = mmd_loss(x_src44, x_tar4, sigma)                   # p(x) mmd loss\n",
    "            loss2 = mmd_loss(x_src_data_c_05, x_tar_data_c_05, sigma)  # p(x|y) mmd loss\n",
    "            loss3 = mmd_loss(x_src_label_c_05, x_tar_label_c_05, sigma)# p(y) mmd loss\n",
    "            loss = loss + loss1 + loss2 + loss3    # Add mmd loss \n",
    "        x_src5 = torch.sigmoid(self.fc2(x_src4))   # Labeled source output \n",
    "        x_tar05 = torch.sigmoid(self.fc2(x_tar04)) # Labeled target output        \n",
    "        return x_src5, x_tar05, loss"
   ]
  },
  {
   "cell_type": "code",
   "execution_count": 10,
   "metadata": {},
   "outputs": [],
   "source": [
    "'''Create PSO objective function'''\n",
    "def pso_func(x, net_para, opt_para, model, opt):\n",
    "    n_particles = x.shape[0] \n",
    "    f=[]\n",
    "    for i in range(n_particles):\n",
    "        model.load_state_dict(net_para)\n",
    "        opt.load_state_dict(opt_para)\n",
    "        train_predict_s, train_predict_t, loss_unspv = model(x_train_o_s, x_train_o_t, train_data_o_mmd, test_data_o_mmd, train_label_c, test_label_c, train_data_c_mmd, test_data_c_mmd, sigma=x[i,0])\n",
    "        loss_spv_s = loss_func(train_predict_s, y_train_o_s)\n",
    "        loss_spv_t = loss_func(train_predict_t, y_train_o_t)\n",
    "        loss_all = loss_spv_s + x[i,1]*loss_spv_t + x[i,2]*loss_unspv\n",
    "        opt.zero_grad()\n",
    "        loss_all.backward()\n",
    "        opt.step()\n",
    "        \n",
    "        train_predict_s_new, tar_predict_t_new, loss_unspv_new = model(x_train_o_s, x_train_o_t, train_data_o_mmd, test_data_o_mmd, train_label_c, test_label_c, train_data_c_mmd, test_data_c_mmd, sigma=x[i,0])\n",
    "        loss_spv_s_new = loss_func(train_predict_s_new, y_train_o_s)\n",
    "        loss_spv_t_new = loss_func(tar_predict_t_new, y_train_o_t)       \n",
    "        loss_all_new = loss_spv_s_new + x[i,1]*loss_spv_t_new + x[i,2]*loss_unspv_new\n",
    "        \n",
    "        f.append(loss_all_new.cpu().detach().numpy())\n",
    "    return np.array(f)"
   ]
  },
  {
   "cell_type": "code",
   "execution_count": 11,
   "metadata": {},
   "outputs": [
    {
     "data": {
      "text/plain": [
       "'-------------------------------'"
      ]
     },
     "execution_count": 11,
     "metadata": {},
     "output_type": "execute_result"
    }
   ],
   "source": [
    "'''----------Reproducible---------'''\n",
    "random.seed(0)\n",
    "np.random.seed(0)\n",
    "torch.manual_seed(0)\n",
    "torch.cuda.manual_seed(0)\n",
    "'''-------------------------------'''\n",
    "\n",
    "'''Define Model, optimizer and loss function'''\n",
    "net = Net().cuda()\n",
    "optimizer = torch.optim.Adam(net.parameters(), lr=0.0001)\n",
    "scheduler = torch.optim.lr_scheduler.StepLR(optimizer, step_size=100, gamma=0.99)\n",
    "loss_func = torch.nn.MSELoss() \n",
    "'''-------------------------------------------'''\n",
    "\n",
    "'''--------PSO parameters---------'''\n",
    "options = {'c1': 0.5, 'c2': 0.3, 'w':0.9}\n",
    "constraints = (np.array([0, 2, 0]), np.array([100, 20, 100]))\n",
    "optimizer_pso = ps.single.GlobalBestPSO(n_particles=20, dimensions=3, options=options, bounds=constraints)\n",
    "'''-------------------------------'''"
   ]
  },
  {
   "cell_type": "code",
   "execution_count": null,
   "metadata": {},
   "outputs": [],
   "source": [
    "POS = []\n",
    "COST = []\n",
    "indx = []\n",
    "min_loss = 1000\n",
    "interval = 50\n",
    "for t in range(6000):\n",
    "    net.train()\n",
    "    optimizer.zero_grad() \n",
    "    \n",
    "    if (t%interval==0):\n",
    "        parameter_save = deepcopy(net.state_dict())  \n",
    "        optimizer_save = deepcopy(optimizer.state_dict())\n",
    "        cost, pos = optimizer_pso.optimize(pso_func, iters = 100, net_para = parameter_save, opt_para = optimizer_save, model = net, opt = optimizer)\n",
    "        net.load_state_dict(parameter_save)\n",
    "        optimizer.load_state_dict(optimizer_save)\n",
    "        \n",
    "    POS.append(pos)\n",
    "    COST.append(cost)\n",
    "    \n",
    "    train_predict_s, train_predict_t, trainmmdlosses = net(x_train_o_s, x_train_o_t, train_data_o_mmd, test_data_o_mmd, train_label_c, test_label_c, train_data_c_mmd, test_data_c_mmd, sigma=pos[0])\n",
    "    train_loss_s = loss_func(train_predict_s, y_train_o_s)\n",
    "    train_loss_t = loss_func(train_predict_t, y_train_o_t)   \n",
    "    \n",
    "    loss = train_loss_s + pos[1]*train_loss_t + pos[2]*trainmmdlosses\n",
    "\n",
    "    loss.backward()             \n",
    "    optimizer.step()   \n",
    "\n",
    "    net.eval()\n",
    "    with torch.no_grad():\n",
    "        val_prediction1, val_prediction2, valmmdloss = net(x_val_o, x_train_o_t, train_data_o_mmd, test_data_o_mmd, train_label_c, test_label_c, train_data_c_mmd, test_data_c_mmd, sigma=pos[0])\n",
    "        val_loss = loss_func(val_prediction1, y_val_o)\n",
    "\n",
    "    if val_loss.cpu().data.numpy() < min_loss:\n",
    "        min_loss = val_loss.cpu().data.numpy()\n",
    "        print(\"save model\")\n",
    "        torch.save(net.state_dict(),'best_model.pkl')  \n",
    "        indx.append(t)\n",
    "    print ('Step = %d' % t, 'loss:',loss.cpu().data.numpy())"
   ]
  },
  {
   "cell_type": "code",
   "execution_count": 15,
   "metadata": {},
   "outputs": [
    {
     "data": {
      "image/png": "[encoded data removed]",
      "text/plain": [
       "<Figure size 432x288 with 1 Axes>"
      ]
     },
     "metadata": {
      "needs_background": "light"
     },
     "output_type": "display_data"
    }
   ],
   "source": [
    "'''Loading the trained model'''\n",
    "net = Net().cuda()\n",
    "pos = sio.loadmat('hyperparameters_save.mat')['Hyperparameters'][-1,:] \n",
    "net.load_state_dict(torch.load('model_save.pkl'))\n",
    "net.eval()\n",
    "with torch.no_grad():\n",
    "    test_prediction, _, s = net(test_data_o, x_train_o_t, train_data_o_mmd, test_data_o_mmd, train_label_c, test_label_c, train_data_c_mmd, test_data_c_mmd, sigma=pos[0])\n",
    "    test_loss = loss_func(test_prediction, test_label_o)\n",
    "plt.plot(test_label_o.cpu())\n",
    "plt.plot(test_prediction.cpu())\n",
    "plt.show()"
   ]
  },
  {
   "cell_type": "code",
   "execution_count": null,
   "metadata": {},
   "outputs": [],
   "source": []
  }
 ],
 "metadata": {
  "kernelspec": {
   "display_name": "Python 3 (ipykernel)",
   "language": "python",
   "name": "python3"
  },
  "language_info": {
   "codemirror_mode": {
    "name": "ipython",
    "version": 3
   },
   "file_extension": ".py",
   "mimetype": "text/x-python",
   "name": "python",
   "nbconvert_exporter": "python",
   "pygments_lexer": "ipython3",
   "version": "3.9.13"
  }
 },
 "nbformat": 4,
 "nbformat_minor": 2
}
